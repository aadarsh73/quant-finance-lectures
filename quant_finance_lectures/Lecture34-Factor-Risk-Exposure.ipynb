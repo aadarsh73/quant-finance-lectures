{
 "cells": [
  {
   "cell_type": "markdown",
   "metadata": {},
   "source": [
    "<a href=\"https://www.quantrocket.com\"><img alt=\"QuantRocket logo\" src=\"https://www.quantrocket.com/assets/img/notebook-header-logo.png\"></a>\n",
    "\n",
    "© Copyright Quantopian Inc.<br>\n",
    "© Modifications Copyright QuantRocket LLC<br>\n",
    "Licensed under the [Creative Commons Attribution 4.0](https://creativecommons.org/licenses/by/4.0/legalcode).\n",
    "\n",
    "<a href=\"https://www.quantrocket.com/disclaimer/\">Disclaimer</a>"
   ]
  },
  {
   "cell_type": "markdown",
   "metadata": {
    "tags": []
   },
   "source": [
    "# Factor Risk Exposure\n",
    "\n",
    "By Evgenia \"Jenny\" Nitishinskaya, Delaney Granizo-Mackenzie, and Maxwell Margenot.\n",
    "\n",
    "\n",
    "## DISCLAIMER\n",
    "\n",
    "As always, this analysis is based on historical data, and risk exposures estimated on historical data may or may not affect the exposures going forward. As such, computing the risk exposure of a factor is not enough. You must put confidence bounds on that risk exposure, and determine whether the risk exposure can even be modeled reasonably. For more information on this, please see our other lectures, especially Instability of Parameter Estimates."
   ]
  },
  {
   "cell_type": "markdown",
   "metadata": {},
   "source": [
    "\n",
    "## Using Factor Models to Determine Risk Exposure\n",
    "\n",
    "We can use factor models to analyze the sources of risks and returns in portfolios. Recall that a factor model expresses the returns as\n",
    "\n",
    "$$R_i = a_i + b_{i1} F_1 + b_{i2} F_2 + \\ldots + b_{iK} F_K + \\epsilon_i$$\n",
    "\n",
    "By modelling the historical returns, we can see how much of them is due to speculation on different factors and how much to asset-specific fluctuations ($\\epsilon_p$). We can also examine what sources of risk the portfolio is exposed to. \n",
    "\n",
    "In risk analysis, we often model active returns (returns relative to a benchmark) and active risk (standard deviation of active returns, also known as tracking error or tracking risk).\n",
    "\n",
    "For instance, we can find a factor's marginal contribution to active risk squared (FMCAR). For factor $j$, this is\n",
    "\n",
    "$$ \\text{FMCAR}_j = \\frac{b_j^a \\sum_{i=1}^K b_i^a Cov(F_j, F_i)}{(\\text{Active risk})^2} $$\n",
    "\n",
    "where $b_i^a$ is the portfolio's active exposure to factor $i$. This tells us how much risk we incur by being exposed to factor $j$, given all the other factors we're already exposed to.\n",
    "\n",
    "Fundamental factor models are often used to evaluate portfolios because they correspond directly to investment choices (e.g. whether we invest in small-cap or large-cap stocks, etc.). Below, we construct a model to evaluate a single asset; for more information on the model construction, check out the fundamental factor models notebook.\n",
    "\n",
    "We'll use the canonical Fama-French factors for this example, which are the returns of portfolios constructred based on fundamental factors."
   ]
  },
  {
   "cell_type": "markdown",
   "metadata": {},
   "source": [
    "## How many factors do you want?\n",
    "\n",
    "In the Arbitrage Pricing Theory lecture we mention that for predictive models you want fewer parameters. However, this doesn't quite hold for risk exposure. Instead of trying to not overfit a predictive model, you are looking for any possible risk factor that could be influencing your returns. Therefore it's actually safer to estimate exposure to many many risk factors to see if any stick. Anything left over in our $\\alpha$ is risk exposure that is currently unexplained by the selected factors. You want your strategy's return stream to be all alpha, and to be unexplained by as many parameters as possible. If you can show that your historical returns have little to no dependence on many factors, this is very positive. Certainly some unrelated risk factors might have spurious relationships over time in a large dataset, but those are not likely to be consistent."
   ]
  },
  {
   "cell_type": "markdown",
   "metadata": {},
   "source": [
    "## Setup\n",
    "\n",
    "The first thing we do is compute a year's worth of factor returns. \n",
    "\n",
    "**NOTE**\n",
    "\n",
    "The process for doing this is described in the Fundamental Factor Models lecture and uses pipeline. For more information please see that lecture."
   ]
  },
  {
   "cell_type": "code",
   "execution_count": 1,
   "metadata": {},
   "outputs": [],
   "source": [
    "import numpy as np\n",
    "import statsmodels.api as sm\n",
    "import scipy.stats as stats\n",
    "from statsmodels import regression\n",
    "import matplotlib.pyplot as plt\n",
    "import pandas as pd"
   ]
  },
  {
   "cell_type": "code",
   "execution_count": 2,
   "metadata": {
    "collapsed": false,
    "jupyter": {
     "outputs_hidden": false
    }
   },
   "outputs": [],
   "source": [
    "import numpy as np\n",
    "from zipline.pipeline import Pipeline\n",
    "from zipline.pipeline.data import sharadar, EquityPricing\n",
    "from zipline.pipeline.factors import CustomFactor, Returns\n",
    "        \n",
    "def make_pipeline():\n",
    "    \"\"\"\n",
    "    Create and return our pipeline.\n",
    "    \n",
    "    We break this piece of logic out into its own function to make it easier to\n",
    "    test and modify in isolation.\n",
    "    \n",
    "    In particular, this function can be copy/pasted into research and run by itself.\n",
    "    \"\"\"\n",
    "    pipe = Pipeline()\n",
    "\n",
    "    Fundamentals = sharadar.Fundamentals.slice(dimension='ARQ', period_offset=0)\n",
    "    \n",
    "    # Add our factors to the pipeline\n",
    "    market_cap = Fundamentals.MARKETCAP.latest\n",
    "    \n",
    "    # Raw market cap and book to price data gets fed in here\n",
    "    pipe.add(market_cap, \"market_cap\")\n",
    "    book_to_price = 1/Fundamentals.PB.latest\n",
    "    pipe.add(book_to_price, \"book_to_price\")\n",
    "    \n",
    "    # We also get daily returns\n",
    "    returns = Returns(inputs=[EquityPricing.close], window_length=2)\n",
    "    pipe.add(returns, \"returns\")\n",
    "    \n",
    "    # We compute a daily rank of both factors, this is used in the next step,\n",
    "    # which is computing portfolio membership.\n",
    "    market_cap_rank = market_cap.rank()\n",
    "    pipe.add(market_cap_rank, 'market_cap_rank')\n",
    "    \n",
    "    book_to_price_rank = book_to_price.rank()\n",
    "    pipe.add(book_to_price_rank, 'book_to_price_rank')\n",
    "\n",
    "    # Build Filters representing the top and bottom 1000 stocks by our combined ranking system.\n",
    "    biggest = market_cap_rank.top(1000)\n",
    "    smallest = market_cap_rank.bottom(1000)\n",
    "    \n",
    "    highpb = book_to_price_rank.top(1000)\n",
    "    lowpb = book_to_price_rank.bottom(1000)\n",
    "    \n",
    "    # Don't return anything not in this set, as we don't need it.\n",
    "    pipe.set_screen(biggest | smallest | highpb | lowpb)\n",
    "    \n",
    "    # Add the boolean flags we computed to the output data\n",
    "    pipe.add(biggest, 'biggest')\n",
    "    pipe.add(smallest, 'smallest')\n",
    "    \n",
    "    pipe.add(highpb, 'highpb')\n",
    "    pipe.add(lowpb, 'lowpb')\n",
    "    \n",
    "    return pipe\n",
    "\n",
    "pipe = make_pipeline()"
   ]
  },
  {
   "cell_type": "code",
   "execution_count": 3,
   "metadata": {
    "collapsed": false,
    "jupyter": {
     "outputs_hidden": false
    }
   },
   "outputs": [],
   "source": [
    "from zipline.research import run_pipeline\n",
    "\n",
    "start_date = '2014-01-01'\n",
    "end_date = '2015-01-01'\n",
    "\n",
    "results = run_pipeline(pipe, start_date=start_date, end_date=end_date, bundle='usstock-1d-bundle')\n",
    "\n",
    "R_biggest = results[results.biggest]['returns'].groupby(level=0).mean()\n",
    "R_smallest = results[results.smallest]['returns'].groupby(level=0).mean()\n",
    "\n",
    "R_highpb = results[results.highpb]['returns'].groupby(level=0).mean()\n",
    "R_lowpb = results[results.lowpb]['returns'].groupby(level=0).mean()\n",
    "\n",
    "SMB = R_smallest - R_biggest\n",
    "HML = R_highpb - R_lowpb"
   ]
  },
  {
   "cell_type": "markdown",
   "metadata": {},
   "source": [
    "How did each factor do over 2014?"
   ]
  },
  {
   "cell_type": "code",
   "execution_count": 4,
   "metadata": {
    "collapsed": false,
    "jupyter": {
     "outputs_hidden": false
    }
   },
   "outputs": [
    {
     "data": {
      "image/png": "[encoded data removed]",
      "text/plain": [
       "<Figure size 1152x432 with 1 Axes>"
      ]
     },
     "metadata": {
      "needs_background": "light"
     },
     "output_type": "display_data"
    }
   ],
   "source": [
    "SMB_CUM = np.cumprod(SMB+1)\n",
    "HML_CUM = np.cumprod(HML+1)\n",
    "\n",
    "plt.plot(SMB_CUM.index, SMB_CUM.values)\n",
    "plt.plot(HML_CUM.index, HML_CUM.values)\n",
    "plt.ylabel('Cumulative Return')\n",
    "plt.legend(['SMB Portfolio Returns', 'HML Portfolio Returns']);"
   ]
  },
  {
   "cell_type": "markdown",
   "metadata": {},
   "source": [
    "## Computing Risk Exposure\n",
    "\n",
    "Now we can determine how exposed another return stream is to each of these factors. We can do this by running static or rolling linear regressions between our return stream and the factor portfolio returns. First we'll compute the active returns (returns - benchmark) of some random asset and then model that asset as a linear combination of our two factors. The more a factor contributes to the active returns, the more exposed the active returns are to that factor."
   ]
  },
  {
   "cell_type": "code",
   "execution_count": 5,
   "metadata": {
    "collapsed": false,
    "jupyter": {
     "outputs_hidden": false
    }
   },
   "outputs": [],
   "source": [
    "from quantrocket.master import get_securities\n",
    "from quantrocket import get_prices\n",
    "\n",
    "securities = get_securities(symbols=['MSFT', 'AAPL', 'YHOO', 'FB', 'TSLA'], vendors='usstock')\n",
    "\n",
    "# Get returns data for our portfolio\n",
    "portfolio = get_prices(\n",
    "    'usstock-1d-bundle',\n",
    "    data_frequency='daily',\n",
    "    sids=securities.index.tolist(),\n",
    "    fields='Close', \n",
    "    start_date=start_date, \n",
    "    end_date=end_date).loc['Close'].pct_change()[1:]\n",
    "R = np.mean(portfolio, axis=1)\n",
    "\n",
    "SPY = get_securities(symbols='SPY', vendors='usstock').index[0]\n",
    "\n",
    "bench = get_prices(\n",
    "    'usstock-1d-bundle', \n",
    "    data_frequency='daily',\n",
    "    sids=SPY,\n",
    "    fields='Close', \n",
    "    start_date=start_date, \n",
    "    end_date=end_date).loc['Close'][SPY].pct_change()[1:]\n",
    "\n",
    "# The excess returns of our active management, in this case just holding a portfolio of our one asset\n",
    "active = R - bench\n",
    "\n",
    "# Define a constant to compute intercept\n",
    "constant = pd.Series(np.ones(len(active.index)), index=active.index)\n",
    "\n",
    "df = pd.DataFrame({'R': active,\n",
    "              'F1': SMB.tz_localize(None),\n",
    "              'F2': HML.tz_localize(None),\n",
    "              'Constant': constant})\n",
    "df = df.dropna()"
   ]
  },
  {
   "cell_type": "code",
   "execution_count": 6,
   "metadata": {
    "collapsed": false,
    "jupyter": {
     "outputs_hidden": false
    }
   },
   "outputs": [
    {
     "name": "stdout",
     "output_type": "stream",
     "text": [
      "Sensitivities of active returns to factors:\n",
      "SMB: -0.027129\n",
      "HML: -0.047605\n"
     ]
    }
   ],
   "source": [
    "# Perform linear regression to get the coefficients in the model\n",
    "b1, b2 = regression.linear_model.OLS(df['R'], df[['F1', 'F2']]).fit().params\n",
    "\n",
    "# Print the coefficients from the linear regression\n",
    "print('Sensitivities of active returns to factors:\\nSMB: %f\\nHML: %f' %  (b1, b2))"
   ]
  },
  {
   "cell_type": "markdown",
   "metadata": {},
   "source": [
    "Using the formula from the start of the notebook, we can compute the factors' marginal contributions to active risk squared:"
   ]
  },
  {
   "cell_type": "code",
   "execution_count": 7,
   "metadata": {
    "collapsed": false,
    "jupyter": {
     "outputs_hidden": false
    }
   },
   "outputs": [
    {
     "name": "stdout",
     "output_type": "stream",
     "text": [
      "SMB Risk Contribution: 0.00022347420398894437\n",
      "HML Risk Contribution: 0.000645267708587981\n"
     ]
    }
   ],
   "source": [
    "F1 = df['F1']\n",
    "F2 = df['F2']\n",
    "cov = np.cov(F1, F2)\n",
    "ar_squared = (active.std())**2\n",
    "fmcar1 = (b1*(b2*cov[0,1] + b1*cov[0,0]))/ar_squared\n",
    "fmcar2 = (b2*(b1*cov[0,1] + b2*cov[1,1]))/ar_squared\n",
    "print('SMB Risk Contribution:', fmcar1)\n",
    "print('HML Risk Contribution:', fmcar2)"
   ]
  },
  {
   "cell_type": "markdown",
   "metadata": {},
   "source": [
    "The rest of the risk can be attributed to active specific risk, i.e. factors that we did not take into account or the asset's idiosyncratic risk."
   ]
  },
  {
   "cell_type": "markdown",
   "metadata": {},
   "source": [
    "## Factor and tracking portfolios\n",
    "\n",
    "We can use factor and tracking portfolios to tweak a portfolio's sensitivities to different sources of risk.\n",
    "\n",
    "A <i>factor portfolio</i> has a sensitivity of 1 to a particular factor and 0 to all other factors. In other words, it represents the risk of that one factor. We can add a factor portfolio to a larger portfolio to adjust its exposure to that factor.\n",
    "\n",
    "A similar concept is a <i>tracking portfolio</i>, which is constructed to have the same factor sensitivities as a benchmark or other portfolio. Like a factor portfolio, this allows us to either speculate on or hedge out the risks associated with that benchmark or portfolio. For instance, we regularly hedge out the market, because we care about how our portfolio performs relative to the market, and we don't want to be subject to the market's fluctuations.\n",
    "\n",
    "To construct a factor or tracking portfolio, we need the factor sensitivities of what we want to track. We already know what these are in the former case, but we need to compute them in the latter using usual factor model methods. Then, we pick some $K+1$ assets (where $K$ is the number of factors we're considering) and solve for the weights of the assets in the portfolio."
   ]
  },
  {
   "cell_type": "markdown",
   "metadata": {},
   "source": [
    "## Portfolio Exposure\n",
    "\n",
    "The portfolio exposure can be computed directly from the return stream, or as the weighted average of all the assets held."
   ]
  },
  {
   "cell_type": "markdown",
   "metadata": {},
   "source": [
    "## Example\n",
    "\n",
    "Say we have two factors $F_1$ and $F_2$, and a benchmark with sensitivities of 1 and 1.1 to the factors, respectively. We identify 3 securities $x_1, x_2, x_3$ that we would like to use in composing a portfolio that tracks the benchmark, whose sensitivities  are $b_{11} = 0.7$, $b_{12} = 1.1$, $b_{21} = 0.1$, $b_{22} = 0.5$, $b_{31} = 1.5$, $b_{32} = 1.3$. We would like to compute weights $w_1$, $w_2$, $w_3$ so that our tracking portfolio is\n",
    "\n",
    "$$ P = w_1 x_1 + w_2 x_2 + w_3 x_3 $$\n",
    "\n",
    "We want our portfolio sensitivities to match the benchmark:\n",
    "\n",
    "$$ w_1 b_{11} + w_2 b_{21} + w_3 b_{31} = 1 $$\n",
    "$$ w_1 b_{12} + w_2 b_{22} + w_3 b_{32} = 1.1 $$\n",
    "\n",
    "Also, the weights need to sum to 1:\n",
    "\n",
    "$$ w_1 + w_2 + w_3 = 1 $$\n",
    "\n",
    "Solving this system of 3 linear equations, we find that $w_1 = 1/3$, $w_2 = 1/6$, and $w_3 = 1/2$. Putting the securities together into a portfolio using these weights, we obtain a portfolio with the same risk profile as the benchmark."
   ]
  },
  {
   "cell_type": "markdown",
   "metadata": {},
   "source": [
    "## How to Use Risk Exposure Models\n",
    "\n",
    "Once we know our risk exposures, we can do a few things. We can not enter into positions that have high exposures to certain factors, or we can hedge our positions to try to neutralize the exposure.\n",
    "\n",
    "### Risk Management\n",
    "\n",
    "Often times funds will have a layer of protection over their traders/algorithms. This layer of protection takes in the trades that the fund wants to make, then computes the exposure of the new portfolio, and checks to make sure they're within pre-defined ranges. If they are not, it does not place the trade and files a warning.\n",
    "\n",
    "### Hedging\n",
    "\n",
    "Another method of dealing with exposure is to take out hedges. You can determine, for example, your exposure to each sector of the market. You can then take out a hedge if a particular sector seems to affect your returns too much. For more information on hedging, please see our Beta Hedging lecture. Good algorithms will have built-in hedging logic that ensures they are never over-exposed."
   ]
  },
  {
   "cell_type": "markdown",
   "metadata": {},
   "source": [
    "---\n",
    "\n",
    "**Next Lecture:** [Risk-Constrained Portfolio Optimization](Lecture35-Risk-Constrained-Portfolio-Optimization.ipynb)\n",
    "\n",
    "[Back to Introduction](Introduction.ipynb) "
   ]
  },
  {
   "cell_type": "markdown",
   "metadata": {},
   "source": [
    "---\n",
    "\n",
    "*This presentation is for informational purposes only and does not constitute an offer to sell, a solicitation to buy, or a recommendation for any security; nor does it constitute an offer to provide investment advisory or other services by QuantRocket LLC (\"QuantRocket\"). Nothing contained herein constitutes investment advice or offers any opinion with respect to the suitability of any security, and any views expressed herein should not be taken as advice to buy, sell, or hold any security or as an endorsement of any security or company.  In preparing the information contained herein, the authors have not taken into account the investment needs, objectives, and financial circumstances of any particular investor. Any views expressed and data illustrated herein were prepared based upon information believed to be reliable at the time of publication. QuantRocket makes no guarantees as to their accuracy or completeness. All information is subject to change and may quickly become unreliable for various reasons, including changes in market conditions or economic circumstances.*"
   ]
  }
 ],
 "metadata": {
  "kernelspec": {
   "display_name": "Python 3",
   "language": "python",
   "name": "python3"
  },
  "language_info": {
   "codemirror_mode": {
    "name": "ipython",
    "version": 3
   },
   "file_extension": ".py",
   "mimetype": "text/x-python",
   "name": "python",
   "nbconvert_exporter": "python",
   "pygments_lexer": "ipython3",
   "version": "3.8.3"
  }
 },
 "nbformat": 4,
 "nbformat_minor": 4
}
